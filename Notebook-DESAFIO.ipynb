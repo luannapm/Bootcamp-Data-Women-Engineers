{
    "metadata": {
        "kernelspec": {
            "name": "SQL",
            "display_name": "SQL",
            "language": "sql"
        },
        "language_info": {
            "name": "sql",
            "version": ""
        },
        "extensions": {
            "azuredatastudio": {
                "version": 1,
                "views": []
            }
        }
    },
    "nbformat_minor": 2,
    "nbformat": 4,
    "cells": [
        {
            "cell_type": "markdown",
            "source": [
                "### **<u>1ª Parte – Conhecimentos de SQL e T-SQL(DDL e DML)</u>**"
            ],
            "metadata": {
                "azdata_cell_guid": "e070f50b-f3ce-4bf1-9a2c-b8a8f476a59a"
            },
            "attachments": {}
        },
        {
            "cell_type": "markdown",
            "source": [
                "**EXERCICIO 1**"
            ],
            "metadata": {
                "azdata_cell_guid": "67e342b7-ef23-4517-80e5-0c948862b47b"
            },
            "attachments": {}
        },
        {
            "cell_type": "markdown",
            "source": [
                "Crie o banco de dados chamado desafio(localmente) com as tabelas conforme diagrama de dados Figura 1."
            ],
            "metadata": {
                "azdata_cell_guid": "c36da511-db24-4e21-98fe-ecb60696a54a"
            },
            "attachments": {}
        },
        {
            "cell_type": "markdown",
            "source": [
                "**Criando o banco de dados**"
            ],
            "metadata": {
                "azdata_cell_guid": "d4251eb4-2dcb-4cbf-9027-5c669810b85e"
            },
            "attachments": {}
        },
        {
            "cell_type": "code",
            "source": [
                "CREATE DATABASE DESAFIO;"
            ],
            "metadata": {
                "azdata_cell_guid": "dea8657d-e0e1-448f-959f-f8024105d921"
            },
            "outputs": [
                {
                    "output_type": "display_data",
                    "data": {
                        "text/html": "Commands completed successfully."
                    },
                    "metadata": {}
                },
                {
                    "output_type": "display_data",
                    "data": {
                        "text/html": "Total execution time: 00:00:01.302"
                    },
                    "metadata": {}
                }
            ],
            "execution_count": 17
        },
        {
            "cell_type": "markdown",
            "source": [
                "**Usando o banco de dado criado**"
            ],
            "metadata": {
                "azdata_cell_guid": "b902d844-f4b3-4e93-a209-782e089e3e93"
            },
            "attachments": {}
        },
        {
            "cell_type": "code",
            "source": [
                "USE DESAFIO;"
            ],
            "metadata": {
                "azdata_cell_guid": "65800dfc-802b-41f5-9eb1-d36ff8430c3f"
            },
            "outputs": [
                {
                    "output_type": "display_data",
                    "data": {
                        "text/html": "Commands completed successfully."
                    },
                    "metadata": {}
                },
                {
                    "output_type": "display_data",
                    "data": {
                        "text/html": "Total execution time: 00:00:00.001"
                    },
                    "metadata": {}
                }
            ],
            "execution_count": 18
        },
        {
            "cell_type": "markdown",
            "source": [
                "**Criando tabela CIDADE**"
            ],
            "metadata": {
                "azdata_cell_guid": "bc38d6e4-12ec-4349-86e5-13837bae28e9"
            },
            "attachments": {}
        },
        {
            "cell_type": "code",
            "source": [
                "CREATE TABLE Cidade\r\n",
                "(\r\n",
                "    id_cidade INT IDENTITY(1,1) PRIMARY KEY NOT NULL,\r\n",
                "    nome_cidade VARCHAR(60),\r\n",
                "    uf VARCHAR(2) NOT NULL\r\n",
                ");"
            ],
            "metadata": {
                "azdata_cell_guid": "1f2320fc-58e3-48a4-8fe3-24533e507244"
            },
            "outputs": [
                {
                    "output_type": "display_data",
                    "data": {
                        "text/html": "Commands completed successfully."
                    },
                    "metadata": {}
                },
                {
                    "output_type": "display_data",
                    "data": {
                        "text/html": "Total execution time: 00:00:00.121"
                    },
                    "metadata": {}
                }
            ],
            "execution_count": 19
        },
        {
            "cell_type": "markdown",
            "source": [
                "**Criando tabela CLIENTE**"
            ],
            "metadata": {
                "azdata_cell_guid": "7bf0cb60-c078-480d-bd91-4efba6fecd11"
            },
            "attachments": {}
        },
        {
            "cell_type": "code",
            "source": [
                "CREATE TABLE Cliente \r\n",
                "(\r\n",
                "    id_cliente INT IDENTITY(1,1) PRIMARY KEY NOT NULL,\r\n",
                "    nome_cliente VARCHAR(60) NOT NULL,\r\n",
                "    endereco VARCHAR(60) NOT NULL,\r\n",
                "    numero VARCHAR(10) NOT NULL,\r\n",
                "    id_cidade INT NOT NULL,\r\n",
                "    cep VARCHAR(9) NOT NULL,\r\n",
                "\r\n",
                ");"
            ],
            "metadata": {
                "azdata_cell_guid": "41b1aedd-6d46-4e68-b682-d25768bce7a9"
            },
            "outputs": [
                {
                    "output_type": "display_data",
                    "data": {
                        "text/html": "Commands completed successfully."
                    },
                    "metadata": {}
                },
                {
                    "output_type": "display_data",
                    "data": {
                        "text/html": "Total execution time: 00:00:00.012"
                    },
                    "metadata": {}
                }
            ],
            "execution_count": 20
        },
        {
            "cell_type": "markdown",
            "source": [
                "**Criando tabela VENDAS**"
            ],
            "metadata": {
                "azdata_cell_guid": "1df55f54-330a-4637-b831-c78724dd108b"
            },
            "attachments": {}
        },
        {
            "cell_type": "code",
            "source": [
                "CREATE TABLE Vendas\r\n",
                "(\r\n",
                "    num_venda int IDENTITY(1,1) PRIMARY KEY NOT NULL,\r\n",
                "    data_venda DATETIME NOT NULL,\r\n",
                "    id_cliente INT NOT NULL,\r\n",
                "    id_vendedor INT NOT NULL,\r\n",
                "    status_venda CHAR(1) NOT NULL\r\n",
                ");"
            ],
            "metadata": {
                "azdata_cell_guid": "7f50ee96-54d9-4b14-8886-cee8c8b90ffc"
            },
            "outputs": [
                {
                    "output_type": "display_data",
                    "data": {
                        "text/html": "Commands completed successfully."
                    },
                    "metadata": {}
                },
                {
                    "output_type": "display_data",
                    "data": {
                        "text/html": "Total execution time: 00:00:00.066"
                    },
                    "metadata": {}
                }
            ],
            "execution_count": 21
        },
        {
            "cell_type": "markdown",
            "source": [
                "**Criando tabela VENDEDORES**"
            ],
            "metadata": {
                "azdata_cell_guid": "b51b6054-0dba-4698-b556-e6af4f22cb50"
            },
            "attachments": {}
        },
        {
            "cell_type": "code",
            "source": [
                "CREATE TABLE Vendedores\r\n",
                "(\r\n",
                "    id_vendedor INT IDENTITY(1,1) PRIMARY KEY NOT NULL,\r\n",
                "    nome_vendedor VARCHAR(60) NOT NULL,\r\n",
                "    salario DECIMAL(10, 2) NOT NULL\r\n",
                ");"
            ],
            "metadata": {
                "azdata_cell_guid": "ba4c9098-a95e-4480-99c0-667e5d309e55"
            },
            "outputs": [
                {
                    "output_type": "display_data",
                    "data": {
                        "text/html": "Commands completed successfully."
                    },
                    "metadata": {}
                },
                {
                    "output_type": "display_data",
                    "data": {
                        "text/html": "Total execution time: 00:00:00.009"
                    },
                    "metadata": {}
                }
            ],
            "execution_count": 25
        },
        {
            "cell_type": "markdown",
            "source": [
                "**Criando tabela CATEGORIA**"
            ],
            "metadata": {
                "azdata_cell_guid": "ed83b70c-55e4-473e-8bf2-d786e1ae8069"
            },
            "attachments": {}
        },
        {
            "cell_type": "code",
            "source": [
                "CREATE TABLE Categoria\r\n",
                "(\r\n",
                "    id_categoria INT IDENTITY(1,1) PRIMARY KEY NOT NULL,\r\n",
                "    nome_categoria VARCHAR(20) NOT NULL\r\n",
                ");"
            ],
            "metadata": {
                "azdata_cell_guid": "0c9b6f37-2ad2-4f09-a488-bedb951de024"
            },
            "outputs": [
                {
                    "output_type": "error",
                    "evalue": "Msg 2714, Level 16, State 6, Line 1\r\nJá existe um objeto com nome 'Categoria' no banco de dados.",
                    "ename": "",
                    "traceback": []
                },
                {
                    "output_type": "display_data",
                    "data": {
                        "text/html": "Total execution time: 00:00:00.222"
                    },
                    "metadata": {}
                }
            ],
            "execution_count": 26
        },
        {
            "cell_type": "markdown",
            "source": [
                "**Criando tabela UNIDADE**"
            ],
            "metadata": {
                "azdata_cell_guid": "302cdf87-9b83-4b53-b578-5ca5c56a6079"
            },
            "attachments": {}
        },
        {
            "cell_type": "code",
            "source": [
                "CREATE TABLE Unidade\r\n",
                "(\r\n",
                "    id_unidade VARCHAR(3) PRIMARY KEY NOT NULL,\r\n",
                "    desc_unidade VARCHAR(25) NOT NULL\r\n",
                ");"
            ],
            "metadata": {
                "azdata_cell_guid": "0a336184-5ccb-49c7-8ac5-07a213e8ee4c"
            },
            "outputs": [
                {
                    "output_type": "display_data",
                    "data": {
                        "text/html": "Commands completed successfully."
                    },
                    "metadata": {}
                },
                {
                    "output_type": "display_data",
                    "data": {
                        "text/html": "Total execution time: 00:00:00.006"
                    },
                    "metadata": {}
                }
            ],
            "execution_count": 27
        },
        {
            "cell_type": "markdown",
            "source": [
                "**Criando tabela PRODUTOS**"
            ],
            "metadata": {
                "azdata_cell_guid": "f6b6f3d8-d69b-4af4-824e-413637e22c27"
            },
            "attachments": {}
        },
        {
            "cell_type": "code",
            "source": [
                "CREATE TABLE Produtos\r\n",
                "(\r\n",
                "    id_prod INT IDENTITY(1,1) PRIMARY KEY NOT NULL,\r\n",
                "    nome_prod VARCHAR(50) NOT NULL,\r\n",
                "    id_categoria INT NOT NULL,\r\n",
                "    id_unidade VARCHAR(3) NOT NULL,\r\n",
                "    preco DECIMAL(10,2) NOT NULL\r\n",
                ");"
            ],
            "metadata": {
                "azdata_cell_guid": "e612e1c8-8eb8-4b1a-9844-bccf6acfedeb"
            },
            "outputs": [
                {
                    "output_type": "display_data",
                    "data": {
                        "text/html": "Commands completed successfully."
                    },
                    "metadata": {}
                },
                {
                    "output_type": "display_data",
                    "data": {
                        "text/html": "Total execution time: 00:00:00.016"
                    },
                    "metadata": {}
                }
            ],
            "execution_count": 28
        },
        {
            "cell_type": "markdown",
            "source": [
                "**Criando tabela VENDA\\_ITENS**"
            ],
            "metadata": {
                "azdata_cell_guid": "6dcfcc95-69fa-4bd8-b5a5-c3b4df790ba5"
            },
            "attachments": {}
        },
        {
            "cell_type": "code",
            "source": [
                "CREATE TABLE Venda_itens\r\n",
                "(\r\n",
                "    num_vend INT PRIMARY KEY NOT NULL,\r\n",
                "    num_se INT NOT NULL,\r\n",
                "    id_prod INT NOT NULL,\r\n",
                "    qtde DECIMAL(10,2) NOT NULL,\r\n",
                "    val_uni DECIMAL(10,2) NOT NULL,\r\n",
                "    val_tot DECIMAL(10,2) NOT NULL\r\n",
                ");"
            ],
            "metadata": {
                "azdata_cell_guid": "585a0e9e-811f-479c-b1db-daced1c69b46"
            },
            "outputs": [
                {
                    "output_type": "display_data",
                    "data": {
                        "text/html": "Commands completed successfully."
                    },
                    "metadata": {}
                },
                {
                    "output_type": "display_data",
                    "data": {
                        "text/html": "Total execution time: 00:00:00.008"
                    },
                    "metadata": {}
                }
            ],
            "execution_count": 29
        },
        {
            "cell_type": "markdown",
            "source": [
                "**Adicionando chaves estrageiras**"
            ],
            "metadata": {
                "azdata_cell_guid": "e9ace310-a933-45ce-8ebc-b03ddfcadcf1"
            },
            "attachments": {}
        },
        {
            "cell_type": "code",
            "source": [
                "\r\n",
                "ALTER TABLE Cliente\r\n",
                "    ADD CONSTRAINT fk_Cidade FOREIGN KEY (id_cidade) REFERENCES Cidade(id_cidade);\r\n",
                "\r\n",
                "ALTER TABLE Vendas\r\n",
                "    ADD CONSTRAINT fk_Cliente FOREIGN KEY (id_cliente) REFERENCES Cliente(id_cliente);\r\n",
                "\r\n",
                "ALTER TABLE Vendas\r\n",
                "    ADD CONSTRAINT fk_Vendedores FOREIGN KEY (id_vendedor) REFERENCES Vendedores(id_vendedor);\r\n",
                "\r\n",
                "ALTER TABLE Produtos\r\n",
                "    ADD CONSTRAINT fk_Categoria FOREIGN KEY (id_categoria) REFERENCES Categoria(id_categoria);\r\n",
                "\r\n",
                "ALTER TABLE Produtos\r\n",
                "    ADD CONSTRAINT fk_Unidade FOREIGN KEY (id_unidade) REFERENCES Unidade(id_unidade);\r\n",
                "\r\n",
                "ALTER TABLE Venda_itens\r\n",
                "    ADD CONSTRAINT fk_Vendas FOREIGN KEY (num_vend) REFERENCES Vendas(num_venda);\r\n",
                "\r\n",
                "ALTER TABLE Venda_itens\r\n",
                "    ADD CONSTRAINT fk_Produtos FOREIGN KEY (id_prod) REFERENCES Produtos(id_prod);\r\n",
                "\r\n",
                "        "
            ],
            "metadata": {
                "azdata_cell_guid": "a4ead91f-c3fc-42c3-a403-8f297b895339"
            },
            "outputs": [
                {
                    "output_type": "display_data",
                    "data": {
                        "text/html": "Commands completed successfully."
                    },
                    "metadata": {}
                },
                {
                    "output_type": "display_data",
                    "data": {
                        "text/html": "Total execution time: 00:00:00.040"
                    },
                    "metadata": {}
                }
            ],
            "execution_count": 30
        },
        {
            "cell_type": "markdown",
            "source": [
                "**EXERCICIO 2**"
            ],
            "metadata": {
                "azdata_cell_guid": "f1bc96ce-4e9f-4e76-b49e-86efe9e14652"
            },
            "attachments": {}
        },
        {
            "cell_type": "markdown",
            "source": [
                "Restaurar o arquivo treino.bak(localmente) para criar um banco de dados treino (versão SQL 2017 ou superior)"
            ],
            "metadata": {
                "azdata_cell_guid": "f393e6da-bc22-4404-971d-93142e94af34"
            },
            "attachments": {}
        },
        {
            "cell_type": "markdown",
            "source": [
                " Arquivo treino.bak foi restaurado localmente para criar um banco de dados TREINO."
            ],
            "metadata": {
                "azdata_cell_guid": "605659e6-9bac-4c5f-b426-08f22c0ab220"
            },
            "attachments": {}
        },
        {
            "cell_type": "markdown",
            "source": [
                "**EXERCICIO 3**"
            ],
            "metadata": {
                "azdata_cell_guid": "805e5a6e-d29a-497f-b8fd-4717a248254f"
            },
            "attachments": {}
        },
        {
            "cell_type": "markdown",
            "source": [
                "Listagem de todos os clientes com seus nomes e com suas respectivas cidades e estados do banco de dados TREINO"
            ],
            "metadata": {
                "azdata_cell_guid": "72c7c9ba-0170-4c42-a36d-13784d1d7d18"
            },
            "attachments": {}
        },
        {
            "cell_type": "code",
            "source": [
                "SELECT  C.NOME_CLIENTE, Cid.NOME_CIDADE, Cid.UF FROM CLIENTE as C\r\n",
                "INNER JOIN CIDADE as Cid\r\n",
                "    ON Clin.ID_CIDADE = Cid.ID_CIDADE;"
            ],
            "metadata": {
                "azdata_cell_guid": "9706350b-e09d-4a0d-99dd-c337d55f0077"
            },
            "outputs": [],
            "execution_count": null
        },
        {
            "cell_type": "markdown",
            "source": [
                "Listagem do código do produto, descrição do produto e a descrição das categorias dos produtos que tenham o valor unitário na faixa de R$ 10,00 a R$ 1500"
            ],
            "metadata": {
                "azdata_cell_guid": "052ed93a-8133-4508-bb97-65b3e3cb7eca"
            },
            "attachments": {}
        },
        {
            "cell_type": "code",
            "source": [
                "SELECT P.ID_PROD, P.NOME_PRODUTO, C.NOME_CATEGORIA, V.VAL_UNIT FROM PRODUTOS as P\r\n",
                "INNER JOIN CATEGORIA as C\r\n",
                "    ON P.ID_CATEGORIA = C.ID_CATEGORIA\r\n",
                "INNER JOIN VENDA_itens as V \r\n",
                "    ON P.ID_PROD = V.ID_PROD\r\n",
                "    WHERE V.VAL_UNIT BETWEEN 10 AND 1500;"
            ],
            "metadata": {
                "azdata_cell_guid": "381148bb-6734-416e-9784-067743aff3af",
                "tags": []
            },
            "outputs": [],
            "execution_count": null
        },
        {
            "cell_type": "markdown",
            "source": [
                "Listagem do código do produto, descrição do produto e descrição da categoria dos produtos, e também apresente uma coluna condicional com o nome de \"faixa de preço\"\n",
                "\n",
                "Com os seguintes critérios\n",
                "\n",
                "• preço\\< 500 : valor condicional será igual \"preço abaixo de 500\"\n",
                "\n",
                "• preço \\>= 500 e \\<=1000 valor condicional será igual \"preço entre 500 e 1000\"\n",
                "\n",
                "• preço \\> 1000 : valor condicional será igual \"preço acima de 1000\"."
            ],
            "metadata": {
                "azdata_cell_guid": "6e441e99-967e-44b9-bbca-74c74fe9f851"
            },
            "attachments": {}
        },
        {
            "cell_type": "code",
            "source": [
                "SELECT P.ID_PROD, P.NOME_PRODUTO, P.PRECO, C.NOME_CATEGORIA,  \r\n",
                "CASE \r\n",
                "WHEN P.PRECO < 500 THEN 'Preço abaixo de 500'\r\n",
                "WHEN P.PRECO >= 500 AND P.PRECO <=1000 THEN 'Preço entre 500 e 1000'\r\n",
                "WHEN P.PRECO > 1000 THEN 'Preço acima de 1000'\r\n",
                "END as FAIXA_PRECO\r\n",
                "FROM PRODUTOS as P\r\n",
                "INNER JOIN CATEGORIA as C\r\n",
                "    ON P.ID_CATEGORIA = C.ID_CATEGORIA;\r\n",
                "\r\n",
                "    "
            ],
            "metadata": {
                "azdata_cell_guid": "033dc30e-80f5-46ee-b681-4973fb82fb68"
            },
            "outputs": [],
            "execution_count": null
        }
    ]
}