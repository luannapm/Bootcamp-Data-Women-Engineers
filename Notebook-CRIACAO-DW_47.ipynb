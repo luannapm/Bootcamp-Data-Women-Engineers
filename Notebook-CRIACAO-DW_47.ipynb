{
    "metadata": {
        "kernelspec": {
            "name": "SQL",
            "display_name": "SQL",
            "language": "sql"
        },
        "language_info": {
            "name": "sql",
            "version": ""
        },
        "extensions": {
            "azuredatastudio": {
                "version": 1,
                "views": []
            }
        }
    },
    "nbformat_minor": 2,
    "nbformat": 4,
    "cells": [
        {
            "cell_type": "markdown",
            "source": [
                "**2ª Parte – Desenvolvimento Pipeline SSIS**"
            ],
            "metadata": {
                "azdata_cell_guid": "3646e296-5939-4d91-964c-8439899eae96"
            },
            "attachments": {}
        },
        {
            "cell_type": "code",
            "source": [
                "--Usando BD local DW_47\r\n",
                "use DW_47"
            ],
            "metadata": {
                "azdata_cell_guid": "4705b957-84db-449e-aa57-177b476546fb"
            },
            "outputs": [
                {
                    "output_type": "display_data",
                    "data": {
                        "text/html": "Commands completed successfully."
                    },
                    "metadata": {}
                },
                {
                    "output_type": "display_data",
                    "data": {
                        "text/html": "Total execution time: 00:00:00.003"
                    },
                    "metadata": {}
                }
            ],
            "execution_count": 7
        },
        {
            "cell_type": "markdown",
            "source": [
                "**CRIANDO UMA TABELA DE LOG**"
            ],
            "metadata": {
                "azdata_cell_guid": "7dedfa47-3296-4895-a2f4-01c7b3362de8"
            },
            "attachments": {}
        },
        {
            "cell_type": "code",
            "source": [
                "\r\n",
                "IF NOT EXISTS\r\n",
                " (SELECT * FROM sysobjects WHERE name='LOG_CARGAS' AND xtype='U')\r\n",
                "\r\n",
                "CREATE TABLE LOG_CARGAS\r\n",
                " (ID INT IDENTITY(1,1) NOT NULL PRIMARY KEY,\r\n",
                " NUMERO_ERRO INT,\r\n",
                " SERVERIDADE_ERRO INT,\r\n",
                " ESTADO_ERRO  INT,\r\n",
                " PROC_ERRO NVARCHAR(255),\r\n",
                " LINHA_ERRO INT,\r\n",
                " MSG_ERRO NVARCHAR(255),\r\n",
                " SITUACAO NVARCHAR(10),\r\n",
                " PROCESSO NVARCHAR(30),\r\n",
                " DATA_INI DATETIME,\r\n",
                " DATA_FIM DATETIME  \r\n",
                " )\r\n",
                " GO"
            ],
            "metadata": {
                "azdata_cell_guid": "2a6407de-03b0-4504-8320-df5f17d59d37"
            },
            "outputs": [
                {
                    "output_type": "display_data",
                    "data": {
                        "text/html": "Commands completed successfully."
                    },
                    "metadata": {}
                },
                {
                    "output_type": "display_data",
                    "data": {
                        "text/html": "Total execution time: 00:00:00.092"
                    },
                    "metadata": {}
                }
            ],
            "execution_count": 7
        },
        {
            "cell_type": "markdown",
            "source": [
                "**CRIANDO TABELA STAGING VENDAS**"
            ],
            "metadata": {
                "azdata_cell_guid": "65c35058-0907-41be-83d0-485764024571"
            },
            "attachments": {}
        },
        {
            "cell_type": "code",
            "source": [
                "-- CRIANDO TABELA STAGING\r\n",
                "IF NOT EXISTS\r\n",
                "  (SELECT * FROM sysobjects WHERE name='STG_VENDAS' AND xtype='U')\r\n",
                "CREATE TABLE [dbo].[STG_VENDAS](\r\n",
                "\t[Segmento] [varchar](50) NULL,\r\n",
                "\t[Pais] [varchar](50) NULL,\r\n",
                "\t[Produto] [varchar](50) NULL,\r\n",
                "\t[TipoDesconto] [varchar](50) NULL,\r\n",
                "\t[QtdVendas] [varchar](50) NULL,\r\n",
                "\t[PrecoCusto] [varchar](50) NULL,\r\n",
                "\t[PrecoVenda] [varchar](50) NULL,\r\n",
                "\t[VendaBruta] [varchar](50) NULL,\r\n",
                "\t[Vendas] [varchar](50) NULL,\r\n",
                "\t[CustoVenda][varchar](50) NULL,\r\n",
                "\t[Desconto][varchar](50) NULL,\r\n",
                "\t[Lucro] [varchar](50)NULL,\r\n",
                "\t[DataVenda][varchar](50) NULL\r\n",
                ") ON [PRIMARY]\r\n",
                "GO\r\n",
                ""
            ],
            "metadata": {
                "azdata_cell_guid": "02eb530f-0d83-4212-9c39-bc5bea79bb6d"
            },
            "outputs": [
                {
                    "output_type": "display_data",
                    "data": {
                        "text/html": "Commands completed successfully."
                    },
                    "metadata": {}
                },
                {
                    "output_type": "display_data",
                    "data": {
                        "text/html": "Total execution time: 00:00:00.159"
                    },
                    "metadata": {}
                }
            ],
            "execution_count": 1
        },
        {
            "cell_type": "markdown",
            "source": [
                "TRUCANDO TABELA STAGING VENDAS"
            ],
            "metadata": {
                "azdata_cell_guid": "2687592a-0855-45a1-a81a-eea7ece2bb46"
            },
            "attachments": {}
        },
        {
            "cell_type": "code",
            "source": [
                "TRUNCATE TABLE STG_VENDAS; --Limpeza da tabela antes de iniciar o processo.\r\n",
                ""
            ],
            "metadata": {
                "azdata_cell_guid": "fec7daf8-b430-4fd2-ba88-1ad26a6a04db"
            },
            "outputs": [
                {
                    "output_type": "display_data",
                    "data": {
                        "text/html": "Commands completed successfully."
                    },
                    "metadata": {}
                },
                {
                    "output_type": "display_data",
                    "data": {
                        "text/html": "Total execution time: 00:00:00.065"
                    },
                    "metadata": {}
                }
            ],
            "execution_count": 4
        },
        {
            "cell_type": "markdown",
            "source": [
                "**CRIANDO TABELAS DIMENSÕES**"
            ],
            "metadata": {
                "azdata_cell_guid": "493e25f4-ee6b-46f8-a6c9-dc26d796eacb"
            },
            "attachments": {}
        },
        {
            "cell_type": "code",
            "source": [
                "--CRIANDO DIMENSAO  SEGMENTO\r\n",
                "IF NOT EXISTS\r\n",
                "  (SELECT * FROM sysobjects WHERE name='D_Segmento' AND xtype='U')\r\n",
                "CREATE TABLE [dbo].[D_Segmento](\r\n",
                "\t[Id_Segmento] [int] IDENTITY(1,1) NOT NULL,\r\n",
                "\t[NOME_SEGMENTO] [varchar](50) NULL,\r\n",
                "PRIMARY KEY CLUSTERED \r\n",
                "(\r\n",
                "\t[Id_Segmento] ASC\r\n",
                ")WITH (PAD_INDEX = OFF, STATISTICS_NORECOMPUTE = OFF, IGNORE_DUP_KEY = OFF, ALLOW_ROW_LOCKS = ON, ALLOW_PAGE_LOCKS = ON, OPTIMIZE_FOR_SEQUENTIAL_KEY = OFF) ON [PRIMARY]\r\n",
                ") ON [PRIMARY]\r\n",
                "GO\r\n",
                "\r\n",
                "--CRIANDO DIMENSAO PAIS\r\n",
                "IF NOT EXISTS\r\n",
                "  (SELECT * FROM sysobjects WHERE name='D_Pais' AND xtype='U')\r\n",
                "CREATE TABLE [dbo].[D_Pais](\r\n",
                "\t[id_Pais] [int] IDENTITY(1,1) NOT NULL,\r\n",
                "\t[NOME_PAIS] [varchar](50) NULL,\r\n",
                "PRIMARY KEY CLUSTERED \r\n",
                "(\r\n",
                "\t[id_Pais] ASC\r\n",
                ")WITH (PAD_INDEX = OFF, STATISTICS_NORECOMPUTE = OFF, IGNORE_DUP_KEY = OFF, ALLOW_ROW_LOCKS = ON, ALLOW_PAGE_LOCKS = ON, OPTIMIZE_FOR_SEQUENTIAL_KEY = OFF) ON [PRIMARY]\r\n",
                ") ON [PRIMARY]\r\n",
                "GO\r\n",
                "\r\n",
                "--CRIANDO DIMENSAO PRODUTO\r\n",
                "IF NOT EXISTS\r\n",
                "  (SELECT * FROM sysobjects WHERE name='D_Produto' AND xtype='U')\r\n",
                "\r\n",
                "CREATE TABLE [dbo].[D_Produto](\r\n",
                "\t[id_Produto] [int] IDENTITY(1,1) NOT NULL,\r\n",
                "\t[NOME_PRODUTO] [varchar](50) NULL,\r\n",
                "PRIMARY KEY CLUSTERED \r\n",
                "(\r\n",
                "\t[id_Produto] ASC\r\n",
                ")WITH (PAD_INDEX = OFF, STATISTICS_NORECOMPUTE = OFF, IGNORE_DUP_KEY = OFF, ALLOW_ROW_LOCKS = ON, ALLOW_PAGE_LOCKS = ON, OPTIMIZE_FOR_SEQUENTIAL_KEY = OFF) ON [PRIMARY]\r\n",
                ") ON [PRIMARY]\r\n",
                "GO\r\n",
                "\r\n",
                "--CRIANDO DIMENSAO TIPO DESCONTO\r\n",
                "IF NOT EXISTS\r\n",
                "  (SELECT * FROM sysobjects WHERE name='D_TipoDesconto' AND xtype='U')\r\n",
                "CREATE TABLE [dbo].[D_TipoDesconto](\r\n",
                "\t[id_TipoDesconto] [int] IDENTITY(1,1) NOT NULL,\r\n",
                "\t[TIPO_DESCONTO] [varchar](50) NULL,\r\n",
                "PRIMARY KEY CLUSTERED \r\n",
                "(\r\n",
                "\t[id_TipoDesconto] ASC\r\n",
                ")WITH (PAD_INDEX = OFF, STATISTICS_NORECOMPUTE = OFF, IGNORE_DUP_KEY = OFF, ALLOW_ROW_LOCKS = ON, ALLOW_PAGE_LOCKS = ON, OPTIMIZE_FOR_SEQUENTIAL_KEY = OFF) ON [PRIMARY]\r\n",
                ") ON [PRIMARY]\r\n",
                "GO\r\n",
                ""
            ],
            "metadata": {
                "azdata_cell_guid": "c3f4f19d-c5da-4548-b85d-e323806bd4e9"
            },
            "outputs": [
                {
                    "output_type": "display_data",
                    "data": {
                        "text/html": "Commands completed successfully."
                    },
                    "metadata": {}
                },
                {
                    "output_type": "display_data",
                    "data": {
                        "text/html": "Commands completed successfully."
                    },
                    "metadata": {}
                },
                {
                    "output_type": "display_data",
                    "data": {
                        "text/html": "Commands completed successfully."
                    },
                    "metadata": {}
                },
                {
                    "output_type": "display_data",
                    "data": {
                        "text/html": "Commands completed successfully."
                    },
                    "metadata": {}
                },
                {
                    "output_type": "display_data",
                    "data": {
                        "text/html": "Total execution time: 00:00:00.135"
                    },
                    "metadata": {}
                }
            ],
            "execution_count": 3
        },
        {
            "cell_type": "markdown",
            "source": [
                "**CRIANDO TABELA FATO**"
            ],
            "metadata": {
                "azdata_cell_guid": "42a33e86-e941-49ed-aa72-dad0b60f8024"
            },
            "attachments": {}
        },
        {
            "cell_type": "code",
            "source": [
                "IF NOT EXISTS\r\n",
                "  (SELECT * FROM sysobjects WHERE name='FATO_VENDA' AND xtype='U')\r\n",
                "CREATE TABLE FATO_VENDA\r\n",
                "(\r\n",
                "id_Segmento  [int] NULL,\r\n",
                "id_Pais  [int] NULL,\r\n",
                "id_Produto  [int] NULL,\r\n",
                "id_TipoDesconto  [int] NULL,\r\n",
                "QtdVendas DECIMAL(10,2) NULL,\r\n",
                "PrecoCusto DECIMAL(10,2) NULL,\r\n",
                "PrecoVenda DECIMAL(10,2) NULL,\r\n",
                "VendaBruta DECIMAL(10,2) NULL,\r\n",
                "Vendas DECIMAL(10,2) NULL,\r\n",
                "CustoVenda DECIMAL(10,2) NULL,\r\n",
                "Desconto DECIMAL(10,2) NULL,\r\n",
                "Lucro DECIMAL(10,2) NULL,\r\n",
                "DataVenda DATE\r\n",
                ")"
            ],
            "metadata": {
                "azdata_cell_guid": "bff888e9-2735-42dc-aad9-44f2ab893522"
            },
            "outputs": [
                {
                    "output_type": "display_data",
                    "data": {
                        "text/html": "Commands completed successfully."
                    },
                    "metadata": {}
                },
                {
                    "output_type": "display_data",
                    "data": {
                        "text/html": "Total execution time: 00:00:01.362"
                    },
                    "metadata": {}
                }
            ],
            "execution_count": 6
        },
        {
            "cell_type": "markdown",
            "source": [
                "**CARGA TABELA DIMENSÃO SEGMENTO**"
            ],
            "metadata": {
                "azdata_cell_guid": "8bd78fea-c9cb-4208-9a8d-f50f06f7307e"
            },
            "attachments": {}
        },
        {
            "cell_type": "code",
            "source": [
                "--Alimentando tabela dimensão segmento\r\n",
                "\r\n",
                "BEGIN TRANSACTION;  \r\n",
                "\tDECLARE @VDATA_INI DATETIME;\r\n",
                "\tSET @VDATA_INI= GETDATE();\r\n",
                "BEGIN TRY  \r\n",
                "\r\n",
                "MERGE D_Segmento AS Destino\r\n",
                "\r\n",
                "USING (SELECT DISTINCT Segmento FROM STG_VENDAS) AS Origem\r\n",
                "\r\n",
                "ON Destino.NOME_SEGMENTO = Origem.Segmento\r\n",
                "\r\n",
                "-- Há registro no destino e na origem\r\n",
                "WHEN MATCHED \r\n",
                "\r\n",
                "THEN \r\n",
                "    UPDATE SET NOME_SEGMENTO = Origem.Segmento\r\n",
                "\r\n",
                "--Quando não há registro no destino e há na origem\r\n",
                "WHEN NOT MATCHED \r\n",
                "\r\n",
                "THEN \r\n",
                "    INSERT (NOME_SEGMENTO) VALUES (Origem.Segmento);\r\n",
                "\r\n",
                "   END TRY  \r\n",
                "BEGIN CATCH\r\n",
                " \tIF @@TRANCOUNT > 0  \r\n",
                "        ROLLBACK TRANSACTION; \r\n",
                "\r\n",
                "INSERT INTO [dbo].[LOG_CARGAS]\r\n",
                "           ([NUMERO_ERRO],\r\n",
                "           [SERVERIDADE_ERRO],\r\n",
                "           [ESTADO_ERRO],\r\n",
                "           [PROC_ERRO],\r\n",
                "           [LINHA_ERRO],\r\n",
                "           [MSG_ERRO],\r\n",
                "           [SITUACAO],\r\n",
                "           [PROCESSO],\r\n",
                "           [DATA_INI],\r\n",
                "\t\t   [DATA_FIM])\r\n",
                "     VALUES\r\n",
                "        (ERROR_NUMBER(),\r\n",
                "        ERROR_SEVERITY(),\r\n",
                "        ERROR_STATE(),\r\n",
                "        ERROR_PROCEDURE(),\r\n",
                "        ERROR_LINE() ,\r\n",
                "        ERROR_MESSAGE() ,\r\n",
                "        'ERRO',\r\n",
                "        'CARGA SEGMENTO',\r\n",
                "\t\t@VDATA_INI,\r\n",
                "\t\tGETDATE()\r\n",
                "\t\t)\r\n",
                "\r\n",
                "        \r\n",
                "END CATCH;  \r\n",
                "\r\n",
                "INSERT INTO LOG_CARGAS\r\n",
                "           ([NUMERO_ERRO],\r\n",
                "           [SERVERIDADE_ERRO],\r\n",
                "           [ESTADO_ERRO],\r\n",
                "           [PROC_ERRO],\r\n",
                "           [LINHA_ERRO],\r\n",
                "           [MSG_ERRO],\r\n",
                "           [SITUACAO],\r\n",
                "           [PROCESSO],\r\n",
                "           [DATA_INI],\r\n",
                "\t\t   [DATA_FIM])\r\n",
                "     VALUES\r\n",
                "        (ERROR_NUMBER(),\r\n",
                "        ERROR_SEVERITY(),\r\n",
                "        ERROR_STATE(),\r\n",
                "        ERROR_PROCEDURE(),\r\n",
                "        ERROR_LINE() ,\r\n",
                "        ERROR_MESSAGE() ,\r\n",
                "        'SUCESSO',\r\n",
                "       'CARGA SEGMENTO',\r\n",
                "\t\t@VDATA_INI,\r\n",
                "\t\tGETDATE()\r\n",
                "\t\t)\r\n",
                "\r\n",
                "IF @@TRANCOUNT > 0  \r\n",
                "    COMMIT TRANSACTION;  \r\n",
                "GO  \r\n",
                "\r\n",
                " \r\n",
                ""
            ],
            "metadata": {
                "azdata_cell_guid": "a4502d29-7790-4c8a-800b-63d03a8eec2d"
            },
            "outputs": [
                {
                    "output_type": "display_data",
                    "data": {
                        "text/html": "(5 rows affected)"
                    },
                    "metadata": {}
                },
                {
                    "output_type": "display_data",
                    "data": {
                        "text/html": "(1 row affected)"
                    },
                    "metadata": {}
                },
                {
                    "output_type": "display_data",
                    "data": {
                        "text/html": "Total execution time: 00:00:00.068"
                    },
                    "metadata": {}
                }
            ],
            "execution_count": 4
        },
        {
            "cell_type": "markdown",
            "source": [
                "**CARGA DIMENSÃO PAIS**"
            ],
            "metadata": {
                "azdata_cell_guid": "8732b31e-c6b0-461a-bdb2-17465bc94428"
            },
            "attachments": {}
        },
        {
            "cell_type": "code",
            "source": [
                "--Alimentando tabela pais\r\n",
                "BEGIN TRANSACTION;  \r\n",
                "\tDECLARE @VDATA_INI DATETIME;\r\n",
                "\tSET @VDATA_INI= GETDATE();\r\n",
                "BEGIN TRY  \r\n",
                "\r\n",
                "\r\n",
                "MERGE D_Pais AS Destino\r\n",
                "\r\n",
                "USING (SELECT DISTINCT Pais FROM STG_VENDAS) AS Origem\r\n",
                "\r\n",
                "ON Destino.NOME_PAIS = Origem.Pais\r\n",
                "\r\n",
                "-- Há registro no destino e na origem\r\n",
                "WHEN MATCHED \r\n",
                "\r\n",
                "THEN \r\n",
                "    UPDATE SET NOME_PAIS = Origem.Pais\r\n",
                "\r\n",
                "--Quando não há registro no destino e há na origem\r\n",
                "WHEN NOT MATCHED \r\n",
                "\r\n",
                "THEN \r\n",
                "    INSERT (NOME_PAIS) VALUES (Origem.Pais);\r\n",
                "\r\n",
                "END TRY  \r\n",
                "BEGIN CATCH\r\n",
                " \tIF @@TRANCOUNT > 0  \r\n",
                "        ROLLBACK TRANSACTION; \r\n",
                "\r\n",
                "INSERT INTO [dbo].[LOG_CARGAS]\r\n",
                "           ([NUMERO_ERRO],\r\n",
                "           [SERVERIDADE_ERRO],\r\n",
                "           [ESTADO_ERRO],\r\n",
                "           [PROC_ERRO],\r\n",
                "           [LINHA_ERRO],\r\n",
                "           [MSG_ERRO],\r\n",
                "           [SITUACAO],\r\n",
                "           [PROCESSO],\r\n",
                "           [DATA_INI],\r\n",
                "\t\t   [DATA_FIM])\r\n",
                "     VALUES\r\n",
                "        (ERROR_NUMBER(),\r\n",
                "        ERROR_SEVERITY(),\r\n",
                "        ERROR_STATE(),\r\n",
                "        ERROR_PROCEDURE(),\r\n",
                "        ERROR_LINE() ,\r\n",
                "        ERROR_MESSAGE() ,\r\n",
                "        'ERRO',\r\n",
                "        'CARGA PAIS',\r\n",
                "\t\t@VDATA_INI,\r\n",
                "\t\tGETDATE()\r\n",
                "\t\t)\r\n",
                "\r\n",
                "        \r\n",
                "END CATCH;  \r\n",
                "\r\n",
                "INSERT INTO LOG_CARGAS\r\n",
                "           ([NUMERO_ERRO],\r\n",
                "           [SERVERIDADE_ERRO],\r\n",
                "           [ESTADO_ERRO],\r\n",
                "           [PROC_ERRO],\r\n",
                "           [LINHA_ERRO],\r\n",
                "           [MSG_ERRO],\r\n",
                "           [SITUACAO],\r\n",
                "           [PROCESSO],\r\n",
                "           [DATA_INI],\r\n",
                "\t\t   [DATA_FIM])\r\n",
                "     VALUES\r\n",
                "        (ERROR_NUMBER(),\r\n",
                "        ERROR_SEVERITY(),\r\n",
                "        ERROR_STATE(),\r\n",
                "        ERROR_PROCEDURE(),\r\n",
                "        ERROR_LINE() ,\r\n",
                "        ERROR_MESSAGE() ,\r\n",
                "        'SUCESSO',\r\n",
                "        'CARGA PAIS',\r\n",
                "\t\t@VDATA_INI,\r\n",
                "\t\tGETDATE()\r\n",
                "\t\t)\r\n",
                "\r\n",
                "IF @@TRANCOUNT > 0  \r\n",
                "    COMMIT TRANSACTION;  \r\n",
                "GO  \r\n",
                "\r\n",
                ""
            ],
            "metadata": {
                "azdata_cell_guid": "019c2dcf-5234-4349-b9ea-d5e319dc0976"
            },
            "outputs": [],
            "execution_count": null
        },
        {
            "cell_type": "markdown",
            "source": [
                "**CARGA DIMENSÃO PRODUTO**"
            ],
            "metadata": {
                "azdata_cell_guid": "2fa02aae-c218-40c6-a890-3b3d2e2fce5a"
            },
            "attachments": {}
        },
        {
            "cell_type": "code",
            "source": [
                "--Alimentando tabela produto\r\n",
                "BEGIN TRANSACTION;  \r\n",
                "\tDECLARE @VDATA_INI DATETIME;\r\n",
                "\tSET @VDATA_INI= GETDATE();\r\n",
                "BEGIN TRY  \r\n",
                "\r\n",
                "\r\n",
                "MERGE D_Produto AS Destino\r\n",
                "\r\n",
                "USING (SELECT DISTINCT Produto FROM STG_VENDAS) AS Origem\r\n",
                "\r\n",
                "ON Destino.NOME_PRODUTO = Origem.Produto\r\n",
                "\r\n",
                "-- Há registro no destino e na origem\r\n",
                "WHEN MATCHED \r\n",
                "\r\n",
                "THEN \r\n",
                "    UPDATE SET NOME_PRODUTO = Origem.Produto\r\n",
                "\r\n",
                "--Quando não há registro no destino e há na origem\r\n",
                "WHEN NOT MATCHED \r\n",
                "\r\n",
                "THEN \r\n",
                "    INSERT (NOME_PRODUTO) VALUES (Origem.Produto);\r\n",
                "\r\n",
                "END TRY  \r\n",
                "BEGIN CATCH\r\n",
                " \tIF @@TRANCOUNT > 0  \r\n",
                "        ROLLBACK TRANSACTION; \r\n",
                "\r\n",
                "INSERT INTO [dbo].[LOG_CARGAS]\r\n",
                "           ([NUMERO_ERRO],\r\n",
                "           [SERVERIDADE_ERRO],\r\n",
                "           [ESTADO_ERRO],\r\n",
                "           [PROC_ERRO],\r\n",
                "           [LINHA_ERRO],\r\n",
                "           [MSG_ERRO],\r\n",
                "           [SITUACAO],\r\n",
                "           [PROCESSO],\r\n",
                "           [DATA_INI],\r\n",
                "\t\t   [DATA_FIM])\r\n",
                "     VALUES\r\n",
                "        (ERROR_NUMBER(),\r\n",
                "        ERROR_SEVERITY(),\r\n",
                "        ERROR_STATE(),\r\n",
                "        ERROR_PROCEDURE(),\r\n",
                "        ERROR_LINE() ,\r\n",
                "        ERROR_MESSAGE() ,\r\n",
                "        'ERRO',\r\n",
                "        'CARGA PRODUTO',\r\n",
                "\t\t@VDATA_INI,\r\n",
                "\t\tGETDATE()\r\n",
                "\t\t)\r\n",
                "\r\n",
                "        \r\n",
                "END CATCH;  \r\n",
                "\r\n",
                "INSERT INTO LOG_CARGAS\r\n",
                "           ([NUMERO_ERRO],\r\n",
                "           [SERVERIDADE_ERRO],\r\n",
                "           [ESTADO_ERRO],\r\n",
                "           [PROC_ERRO],\r\n",
                "           [LINHA_ERRO],\r\n",
                "           [MSG_ERRO],\r\n",
                "           [SITUACAO],\r\n",
                "           [PROCESSO],\r\n",
                "           [DATA_INI],\r\n",
                "\t\t   [DATA_FIM])\r\n",
                "     VALUES\r\n",
                "        (ERROR_NUMBER(),\r\n",
                "        ERROR_SEVERITY(),\r\n",
                "        ERROR_STATE(),\r\n",
                "        ERROR_PROCEDURE(),\r\n",
                "        ERROR_LINE() ,\r\n",
                "        ERROR_MESSAGE() ,\r\n",
                "        'SUCESSO',\r\n",
                "        'CARGA PAIS',\r\n",
                "\t\t@VDATA_INI,\r\n",
                "\t\tGETDATE()\r\n",
                "\t\t)\r\n",
                "\r\n",
                "IF @@TRANCOUNT > 0  \r\n",
                "    COMMIT TRANSACTION;  \r\n",
                "GO  \r\n",
                ""
            ],
            "metadata": {
                "azdata_cell_guid": "967c0157-5a45-4ce0-a3ab-9ab61fdae7d2"
            },
            "outputs": [],
            "execution_count": null
        },
        {
            "cell_type": "markdown",
            "source": [
                "**CARGA DIMENSÃO TIPO DE DESCONTO**"
            ],
            "metadata": {
                "azdata_cell_guid": "d400c20c-dafd-4050-a801-cde85a2da5af"
            },
            "attachments": {}
        },
        {
            "cell_type": "code",
            "source": [
                "--Alimentando tabela tipo de desconto\r\n",
                "BEGIN TRANSACTION;  \r\n",
                "\tDECLARE @VDATA_INI DATETIME;\r\n",
                "\tSET @VDATA_INI= GETDATE();\r\n",
                "BEGIN TRY  \r\n",
                "\r\n",
                "\r\n",
                "MERGE D_TipoDesconto AS Destino\r\n",
                "\r\n",
                "USING (SELECT DISTINCT TipoDesconto FROM STG_VENDAS) AS Origem\r\n",
                "\r\n",
                "ON Destino.TIPO_DESCONTO = Origem.TipoDesconto\r\n",
                "\r\n",
                "-- Há registro no destino e na origem\r\n",
                "WHEN MATCHED \r\n",
                "\r\n",
                "THEN \r\n",
                "    UPDATE SET TIPO_DESCONTO = Origem.TipoDesconto\r\n",
                "\r\n",
                "--Quando não há registro no destino e há na origem\r\n",
                "WHEN NOT MATCHED \r\n",
                "\r\n",
                "THEN \r\n",
                "    INSERT (TIPO_DESCONTO) VALUES (Origem.TipoDesconto);\r\n",
                "\r\n",
                "END TRY  \r\n",
                "BEGIN CATCH\r\n",
                " \tIF @@TRANCOUNT > 0  \r\n",
                "        ROLLBACK TRANSACTION; \r\n",
                "\r\n",
                "INSERT INTO [dbo].[LOG_CARGAS]\r\n",
                "           ([NUMERO_ERRO],\r\n",
                "           [SERVERIDADE_ERRO],\r\n",
                "           [ESTADO_ERRO],\r\n",
                "           [PROC_ERRO],\r\n",
                "           [LINHA_ERRO],\r\n",
                "           [MSG_ERRO],\r\n",
                "           [SITUACAO],\r\n",
                "           [PROCESSO],\r\n",
                "           [DATA_INI],\r\n",
                "\t\t   [DATA_FIM])\r\n",
                "     VALUES\r\n",
                "        (ERROR_NUMBER(),\r\n",
                "        ERROR_SEVERITY(),\r\n",
                "        ERROR_STATE(),\r\n",
                "        ERROR_PROCEDURE(),\r\n",
                "        ERROR_LINE() ,\r\n",
                "        ERROR_MESSAGE() ,\r\n",
                "        'ERRO',\r\n",
                "        'CARGA TIPO DESCONTO',\r\n",
                "\t\t@VDATA_INI,\r\n",
                "\t\tGETDATE()\r\n",
                "\t\t)\r\n",
                "\r\n",
                "        \r\n",
                "END CATCH;  \r\n",
                "\r\n",
                "INSERT INTO LOG_CARGAS\r\n",
                "           ([NUMERO_ERRO],\r\n",
                "           [SERVERIDADE_ERRO],\r\n",
                "           [ESTADO_ERRO],\r\n",
                "           [PROC_ERRO],\r\n",
                "           [LINHA_ERRO],\r\n",
                "           [MSG_ERRO],\r\n",
                "           [SITUACAO],\r\n",
                "           [PROCESSO],\r\n",
                "           [DATA_INI],\r\n",
                "\t\t   [DATA_FIM])\r\n",
                "     VALUES\r\n",
                "        (ERROR_NUMBER(),\r\n",
                "        ERROR_SEVERITY(),\r\n",
                "        ERROR_STATE(),\r\n",
                "        ERROR_PROCEDURE(),\r\n",
                "        ERROR_LINE() ,\r\n",
                "        ERROR_MESSAGE() ,\r\n",
                "        'SUCESSO',\r\n",
                "        'CARGA TIPO DESCONTO',\r\n",
                "\t\t@VDATA_INI,\r\n",
                "\t\tGETDATE()\r\n",
                "\t\t)\r\n",
                "\r\n",
                "IF @@TRANCOUNT > 0  \r\n",
                "    COMMIT TRANSACTION;  \r\n",
                "GO  "
            ],
            "metadata": {
                "azdata_cell_guid": "352477eb-42be-4817-8687-f6c1fe42b789"
            },
            "outputs": [],
            "execution_count": null
        },
        {
            "cell_type": "markdown",
            "source": [
                "**CARGA FATO**"
            ],
            "metadata": {
                "azdata_cell_guid": "a494fa4f-730c-475b-a735-38ab0ee8d084"
            },
            "attachments": {}
        },
        {
            "cell_type": "code",
            "source": [
                "--alimentando tabela fato\r\n",
                "BEGIN TRANSACTION;  \r\n",
                "   DECLARE @VDATA_INI DATETIME;\r\n",
                "    DECLARE @VPROCESSO VARCHAR(30);\r\n",
                "    SET @VDATA_INI= GETDATE();\r\n",
                "    SET @VPROCESSO= 'CARGA FATO'\r\n",
                "BEGIN TRY  \r\n",
                "\r\n",
                "\r\n",
                "MERGE FATO_VENDA AS Destino\r\n",
                "\r\n",
                "USING (\r\n",
                "SELECT b.id_Segmento,\r\n",
                "       c.id_Pais,\r\n",
                "       d.id_Produto,\r\n",
                "       e.id_TipoDesconto,\r\n",
                "       CAST(REPLACE(a.QtdVendas,',','.') AS decimal(10,2)) AS QtdVendas,\r\n",
                "       CAST(REPLACE(a.PrecoCusto,',','.') AS decimal(10,2))AS PrecoCusto,\r\n",
                "       CAST(REPLACE(a.PrecoVenda,',','.') AS decimal(10,2)) AS PrecoVenda,\r\n",
                "       CAST(REPLACE(a.VendaBruta,',','.') AS decimal(10,2))AS VendaBruta,\r\n",
                "       CAST(REPLACE(a.Vendas,',','.') AS decimal(10,2)) AS Vendas,\r\n",
                "       CAST(REPLACE(a.CustoVenda,',','.') AS decimal(10,2))AS CustoVenda,\r\n",
                "       CAST(REPLACE(a.Desconto,',','.') AS decimal(10,2)) AS Desconto,\r\n",
                "       CAST(REPLACE(a.Lucro,',','.') AS decimal(10,2))AS Lucro,\r\n",
                "       CAST(a.DataVenda AS DATE) AS DataVenda\r\n",
                "  FROM STG_VENDAS a\r\n",
                "   LEFT JOIN D_Segmento b\r\n",
                "\tON a.Segmento=B.NOME_SEGMENTO\r\n",
                "\r\n",
                "  LEFT JOIN D_Pais c\r\n",
                "\tON a.Pais=c.NOME_PAIS\r\n",
                "\r\n",
                "  LEFT JOIN D_Produto d\r\n",
                "\tON a.Produto=D.NOME_PRODUTO\r\n",
                "\r\n",
                "  LEFT JOIN D_TipoDesconto e\r\n",
                "\tON a.TipoDesconto=E.TIPO_DESCONTO\r\n",
                "\r\n",
                ") AS origem\r\n",
                "    ON Destino.DataVenda = Origem.DataVenda\r\n",
                "\r\n",
                "-- Há registro no destino e na origem\r\n",
                "WHEN MATCHED \r\n",
                "\r\n",
                "THEN \r\n",
                "    UPDATE SET  id_Segmento=origem.id_Segmento, \r\n",
                "                id_Pais=origem.id_Pais,\r\n",
                "                id_Produto=origem.id_Produto,\r\n",
                "                id_TipoDesconto=origem.id_TipoDesconto,\r\n",
                "                QtdVendas=origem.QtdVendas,\r\n",
                "                PrecoCusto=origem.PrecoCusto,\r\n",
                "                PrecoVenda=origem.PrecoVenda,\r\n",
                "                VendaBruta=origem.VendaBruta,\r\n",
                "                Vendas=origem.Vendas,\r\n",
                "                CustoVenda=origem.CustoVenda,\r\n",
                "                Desconto=origem.Desconto,\r\n",
                "                Lucro=origem.Lucro,\r\n",
                "                DataVenda=origem.DataVenda\r\n",
                "\r\n",
                "--Quando não há registro no destino e há na origem\r\n",
                "WHEN NOT MATCHED \r\n",
                "\r\n",
                "THEN \r\n",
                "   INSERT  \r\n",
                "           (id_Segmento, id_Pais, id_Produto , id_TipoDesconto, QtdVendas, \r\n",
                "           PrecoCusto, PrecoVenda, VendaBruta, Vendas, CustoVenda, Desconto, Lucro, DataVenda)\r\n",
                "     VALUES\r\n",
                "           (origem.id_Segmento, \r\n",
                "           origem.id_Pais,\r\n",
                "           origem.id_Produto,\r\n",
                "           origem.id_TipoDesconto,\r\n",
                "           origem.QtdVendas,\r\n",
                "           origem.PrecoCusto,\r\n",
                "           origem.PrecoVenda,\r\n",
                "           origem.VendaBruta,\r\n",
                "           origem.Vendas,\r\n",
                "           origem.CustoVenda,\r\n",
                "           origem.Desconto,\r\n",
                "           origem.Lucro,\r\n",
                "           origem.DataVenda);\r\n",
                "\r\n",
                "END TRY  \r\n",
                "BEGIN CATCH\r\n",
                "   IF @@TRANCOUNT > 0  \r\n",
                "        ROLLBACK TRANSACTION; \r\n",
                "\r\n",
                "INSERT INTO [dbo].[LOG_CARGAS]\r\n",
                "           ([NUMERO_ERRO],\r\n",
                "           [SERVERIDADE_ERRO],\r\n",
                "           [ESTADO_ERRO],\r\n",
                "           [PROC_ERRO],\r\n",
                "           [LINHA_ERRO],\r\n",
                "           [MSG_ERRO],\r\n",
                "           [SITUACAO],\r\n",
                "           [PROCESSO],\r\n",
                "           [DATA_INI],\r\n",
                "         [DATA_FIM])\r\n",
                "     VALUES\r\n",
                "        (ERROR_NUMBER(),\r\n",
                "        ERROR_SEVERITY(),\r\n",
                "        ERROR_STATE(),\r\n",
                "        ERROR_PROCEDURE(),\r\n",
                "        ERROR_LINE() ,\r\n",
                "        ERROR_MESSAGE() ,\r\n",
                "        'ERRO',\r\n",
                "        @VPROCESSO,\r\n",
                "      @VDATA_INI,\r\n",
                "      GETDATE()\r\n",
                "      )\r\n",
                "\r\n",
                "        \r\n",
                "END CATCH;  \r\n",
                "\r\n",
                "INSERT INTO LOG_CARGAS\r\n",
                "           ([NUMERO_ERRO],\r\n",
                "           [SERVERIDADE_ERRO],\r\n",
                "           [ESTADO_ERRO],\r\n",
                "           [PROC_ERRO],\r\n",
                "           [LINHA_ERRO],\r\n",
                "           [MSG_ERRO],\r\n",
                "           [SITUACAO],\r\n",
                "           [PROCESSO],\r\n",
                "           [DATA_INI],\r\n",
                "           [DATA_FIM])\r\n",
                "     VALUES\r\n",
                "        (ERROR_NUMBER(),\r\n",
                "        ERROR_SEVERITY(),\r\n",
                "        ERROR_STATE(),\r\n",
                "        ERROR_PROCEDURE(),\r\n",
                "        ERROR_LINE() ,\r\n",
                "        ERROR_MESSAGE() ,\r\n",
                "        'SUCESSO',\r\n",
                "        @VPROCESSO,\r\n",
                "      @VDATA_INI,\r\n",
                "      GETDATE()\r\n",
                "      )\r\n",
                "\r\n",
                "IF @@TRANCOUNT > 0  \r\n",
                "    COMMIT TRANSACTION;  \r\n",
                "GO  "
            ],
            "metadata": {
                "azdata_cell_guid": "8e26038e-9992-4b94-a42c-8114c25019ea"
            },
            "outputs": [
                {
                    "output_type": "display_data",
                    "data": {
                        "text/html": "(0 rows affected)"
                    },
                    "metadata": {}
                },
                {
                    "output_type": "display_data",
                    "data": {
                        "text/html": "(1 row affected)"
                    },
                    "metadata": {}
                },
                {
                    "output_type": "display_data",
                    "data": {
                        "text/html": "Total execution time: 00:00:00.050"
                    },
                    "metadata": {}
                }
            ],
            "execution_count": 8
        },
        {
            "cell_type": "markdown",
            "source": [
                "**Fim do processo**"
            ],
            "metadata": {
                "azdata_cell_guid": "c0e3bdc6-ccb1-4d7d-99ff-ad7d51778725"
            },
            "attachments": {}
        },
        {
            "cell_type": "markdown",
            "source": [
                "TRUNCANDO OS DADOS DAS TABELAS"
            ],
            "metadata": {
                "azdata_cell_guid": "a1f47bf5-1004-4c52-9498-fb968c668f83"
            },
            "attachments": {}
        },
        {
            "cell_type": "code",
            "source": [
                "--Limpeza das tabelas para iniciar um novo processo\r\n",
                "\r\n",
                "/*\r\n",
                "TRUNCATE TABLE D_SEGMENTO;\r\n",
                "TRUNCATE TABLE D_PAIS;\r\n",
                "TRUNCATE TABLE D_PRODUTO;\r\n",
                "TRUNCATE TABLE D_TIPODESCONTO;\r\n",
                "TRUNCATE TABLE FATO_VENDA;\r\n",
                "TRUNCATE TABLE STG_VENDAS;\r\n",
                "TRUNCATE TABLE LOG_CARGAS; */"
            ],
            "metadata": {
                "azdata_cell_guid": "1b58063c-3f2e-428e-9a03-344ce92cc900",
                "tags": []
            },
            "outputs": [
                {
                    "output_type": "error",
                    "evalue": "Msg 102, Level 15, State 1, Line 1\r\nSintaxe incorreta próxima a '/'.",
                    "ename": "",
                    "traceback": []
                },
                {
                    "output_type": "error",
                    "evalue": "Msg 102, Level 15, State 1, Line 8\r\nSintaxe incorreta próxima a '*'.",
                    "ename": "",
                    "traceback": []
                },
                {
                    "output_type": "display_data",
                    "data": {
                        "text/html": "Total execution time: 00:00:00.093"
                    },
                    "metadata": {}
                }
            ],
            "execution_count": 6
        }
    ]
}